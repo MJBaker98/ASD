{
 "cells": [
  {
   "attachments": {},
   "cell_type": "markdown",
   "metadata": {},
   "source": [
    "This code takes the post-processed list of words and turns it into a list of the most commonly used words and their frequency."
   ]
  },
  {
   "cell_type": "code",
   "execution_count": 4,
   "metadata": {},
   "outputs": [],
   "source": [
    "import pickle\n",
    "total_Text_Link = '//Users//michael//Documents//Programming//Python//Assisted_Speach_Device//Web_Scraping//Total_Text.txt'\n",
    "tt_fid = open(total_Text_Link,'r')\n",
    "TotalText = tt_fid.read()\n",
    "tt_fid.close()\n",
    "\n",
    "# want to keep track of the number of times certain words occur\n",
    "list_of_words = TotalText.split()\n",
    "\n",
    "wordDict = dict()\n",
    "\n",
    "def breakNonAlphaStrings(inStr: str) -> list:\n",
    "    '''\n",
    "    Turn an arbitrarily large string of letters and non-letters into a list of strings by breaking the larger string at it's non-letter characters\n",
    "    '''\n",
    "    outList = []    \n",
    "    tempList = []\n",
    "    for c in inStr:\n",
    "        if not c.isalpha():\n",
    "            if len(tempList) >= 1:\n",
    "                # if the list has letters in it, append it to the outList then continue\n",
    "                outList.append(\"\".join(tempList))\n",
    "                tempList = []\n",
    "                continue\n",
    "            else:\n",
    "                continue\n",
    "        else:\n",
    "            tempList.append(c)\n",
    "    \n",
    "    if len(tempList) >= 1:\n",
    "        outList.append(\"\".join(tempList))\n",
    "\n",
    "    return(outList)\n",
    "            \n",
    "def addToDict(inDict: dict, word: str) -> dict:\n",
    "    W = word.lower()\n",
    "    if W in inDict.keys():\n",
    "        inDict[W] += 1\n",
    "    else:\n",
    "        if not W.isalpha():\n",
    "            # if there are non-letter characters in the string, break the string at the non-letter characters\n",
    "            outList = breakNonAlphaStrings(W)\n",
    "            for o in outList:\n",
    "                inDict = addToDict(inDict, o)\n",
    "        else:\n",
    "            inDict[W] = 1\n",
    "\n",
    "    return(inDict)\n",
    "\n",
    "for W in list_of_words:\n",
    "    wordDict = addToDict(wordDict, W)\n",
    "\n",
    "sortedWordDict = sorted(wordDict.items(), key=lambda x:x[1], reverse=True) # list of tuples of length 2\n",
    "\n",
    "outFile = 'Hand-made_zipf_file.txt'\n",
    "with open(outFile,'w') as fid:\n",
    "    for i in range(10001):\n",
    "        fid.write(f\"{sortedWordDict[i][0]} {sortedWordDict[i][1]}\\n\")\n",
    "\n",
    "dictFile = 'word_weight_dict.pkl'\n",
    "with open(dictFile, 'wb') as f:\n",
    "    pickle.dump(wordDict, f)\n"
   ]
  }
 ],
 "metadata": {
  "kernelspec": {
   "display_name": "tf",
   "language": "python",
   "name": "python3"
  },
  "language_info": {
   "codemirror_mode": {
    "name": "ipython",
    "version": 3
   },
   "file_extension": ".py",
   "mimetype": "text/x-python",
   "name": "python",
   "nbconvert_exporter": "python",
   "pygments_lexer": "ipython3",
   "version": "3.11.4"
  },
  "orig_nbformat": 4
 },
 "nbformat": 4,
 "nbformat_minor": 2
}

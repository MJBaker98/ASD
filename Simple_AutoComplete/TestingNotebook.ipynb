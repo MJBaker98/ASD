{
 "cells": [
  {
   "attachments": {},
   "cell_type": "markdown",
   "metadata": {},
   "source": [
    "Want to use this space as the proper 'main' area to test the code that I write for the autocomplete algorithm before implementing a GUI."
   ]
  },
  {
   "cell_type": "code",
   "execution_count": 1,
   "metadata": {},
   "outputs": [],
   "source": [
    "# Load code that was already written \n",
    "from CharacterNode import CharacterNode as CN\n",
    "from Main import AssistedSpeachApplication\n",
    "\n",
    "ASA = AssistedSpeachApplication()\n",
    "#print(ASA.WordList[-100:-1])\n",
    "#print(ASA.getWeightofWord('queriste'))\n",
    "#print(len(ASA.wordSet))\n",
    "#print(len(ASA.WordList))\n",
    "T = ASA.buildTrie()\n"
   ]
  },
  {
   "cell_type": "code",
   "execution_count": 2,
   "metadata": {},
   "outputs": [
    {
     "name": "stdout",
     "output_type": "stream",
     "text": [
      "[('adicional', 566), ('adicionales', 291), ('adiós', 230), ('adición', 185), ('adicionalmente', 167), ('adivinar', 83), ('adif', 68), ('adivinación', 52), ('adicción', 44), ('adimensional', 39)]\n"
     ]
    }
   ],
   "source": [
    "outList = ASA.searchTrie(T,'adi')\n",
    "outList.sort(key=lambda x:x[1], reverse=True)\n",
    "print(outList)"
   ]
  },
  {
   "cell_type": "code",
   "execution_count": 1,
   "metadata": {},
   "outputs": [
    {
     "data": {
      "text/plain": [
       "['adicional',\n",
       " 'adicionales',\n",
       " 'adiós',\n",
       " 'adición',\n",
       " 'adicionalmente',\n",
       " 'adivinar',\n",
       " 'adif',\n",
       " 'adivinación',\n",
       " 'adicción',\n",
       " 'adimensional']"
      ]
     },
     "execution_count": 1,
     "metadata": {},
     "output_type": "execute_result"
    }
   ],
   "source": [
    "L = [('adicional', 566), ('adicionales', 291), ('adiós', 230), ('adición', 185), ('adicionalmente', 167), ('adivinar', 83), ('adif', 68), ('adivinación', 52), ('adicción', 44), ('adimensional', 39)]\n",
    "[L[x][0] for x in range(10)]"
   ]
  },
  {
   "cell_type": "code",
   "execution_count": null,
   "metadata": {},
   "outputs": [],
   "source": [
    "ASA_test = AssistedSpeachApplication()\n",
    "Trie = ASA_test.buildEmptyTrie()\n",
    "\n",
    "ASA_test.appendToTrie(Trie,'zest',.01)\n",
    "ASA_test.appendToTrie(Trie,'testacular',.01)\n",
    "ASA_test.appendToTrie(Trie,'testie',.01)\n",
    "ASA_test.appendToTrie(Trie,'Yeet',.01)\n",
    "ASA_test.appendToTrie(Trie,'Testicular',.01)\n",
    "ASA_test.appendToTrie(Trie,'test',.01)\n",
    "ASA_test.searchTrie(Trie,'t')"
   ]
  },
  {
   "attachments": {},
   "cell_type": "markdown",
   "metadata": {},
   "source": [
    "The **Main** function *buildTrie()* takes no input and returns a reference to a CharacterNode object. The CharacterNode object points to other character nodes using a list of CharacterNode objects, each of which represent a letter in the spanish alphabet. The **Main** function *searchTrie(Trie, string)* searches through the Trie by traversing nodes and returns a list of all possible words that could complete the provided prefix. If there is no word that matches with the given prefix, the function returns an error message and exits."
   ]
  },
  {
   "cell_type": "code",
   "execution_count": null,
   "metadata": {},
   "outputs": [],
   "source": [
    "print(\"Example 1\")\n",
    "wordsOut = ASA.searchTrie('p')\n",
    "print(wordsOut)\n",
    "\n",
    "print(\"\\nExample 2 -- no word\")\n",
    "ASA.searchTrie('esh')"
   ]
  },
  {
   "attachments": {},
   "cell_type": "markdown",
   "metadata": {},
   "source": [
    "Development began April 2023 on a GUI that wraps the basic Trie build and search algorithms. This GUI uses the arrow keys and enter key to traverse an in-gui keyboard. The letters selected from that keyboard are added to a prefix text box which is fed into the Trie search function to determine words witht he provided prefix."
   ]
  },
  {
   "attachments": {},
   "cell_type": "markdown",
   "metadata": {},
   "source": [
    "### Current Tasks\n",
    "- Obtain a large open-source collection of spanish text that can be read to build a more human-informed trie structure \n",
    "    - Justification:\n",
    "        - The current dataset used to construct the Trie is not at all informed by standard grammar and usage (effective just a list of words from a dictionary). I would like to have the trie be built from a real text source where slang terms, frequency of word usage, and other more human metrics can be captured in the character node object, and thus can inform a more human perforamnce of the software\n",
    "    - Steps:\n",
    "        1. Identify websistes which contain large amounts of written text (News sites, blogs, books?)\n",
    "        2. Install a html to text python tool which can parse through web pages and scan the pages for their text elements\n",
    "        3. Format the resultant text file such that it can be read by the trie building function\n",
    "        4. Test trie building function for speed -- Ideally would like to run in < 5 seconds\n",
    "    \n",
    "- Implement a ListBox item in the GUI to house potential word selections\n",
    "    - Justification:\n",
    "        - The user must be able to select the word that they were attempting to write. This text box must be navagable using the arrow keys and selected using the enter key. This might be difficult, as the arrow definition would then become conditional based on the element that it is interacting with. Maybe there is a way to use the grid setup from the GUI to inform the focus movement instead of using the keyboard layout.\n",
    "    - Steps:\n",
    "        1. Change the outBox text box to be a ListBox and limit the number of words displayed in the list box\n",
    "        2. Increase font to make it more readable \n",
    "        3. Add controlability using the arrow keys"
   ]
  },
  {
   "cell_type": "code",
   "execution_count": null,
   "metadata": {},
   "outputs": [],
   "source": [
    "thisList = ['test 1 3 4 5 6','test235','this is also a check','python','python 2']\n",
    "print(' '.join(thisList))"
   ]
  },
  {
   "cell_type": "code",
   "execution_count": null,
   "metadata": {},
   "outputs": [],
   "source": []
  }
 ],
 "metadata": {
  "kernelspec": {
   "display_name": "base",
   "language": "python",
   "name": "python3"
  },
  "language_info": {
   "codemirror_mode": {
    "name": "ipython",
    "version": 3
   },
   "file_extension": ".py",
   "mimetype": "text/x-python",
   "name": "python",
   "nbconvert_exporter": "python",
   "pygments_lexer": "ipython3",
   "version": "3.11.4"
  },
  "orig_nbformat": 4,
  "vscode": {
   "interpreter": {
    "hash": "2c17cdae881039898e019dde816ef025ab5528b4115dbe62b08e3ff91b305481"
   }
  }
 },
 "nbformat": 4,
 "nbformat_minor": 2
}
